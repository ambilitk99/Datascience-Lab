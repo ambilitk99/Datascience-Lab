{
 "cells": [
  {
   "cell_type": "code",
   "execution_count": 14,
   "id": "2d5e492b",
   "metadata": {},
   "outputs": [],
   "source": [
    "#Linear Regression\n",
    "from sklearn.datasets import load_iris\n",
    "import numpy as np\n",
    "x,y=load_iris(return_X_y=True)\n",
    "x=x[:,np.newaxis,2]\n",
    "# print(x)\n",
    "# print(y)\n",
    "# x=x[:,np.newaxis]\n",
    "# print(x)"
   ]
  },
  {
   "cell_type": "code",
   "execution_count": 10,
   "id": "c1a42fce",
   "metadata": {},
   "outputs": [
    {
     "name": "stdout",
     "output_type": "stream",
     "text": [
      "\n",
      "__prediction__\n",
      " [ 1.6149      1.12616247 -0.02903534  2.14806821  0.01539535  2.01477616\n",
      " -0.07346602  1.43717726  1.48160794  1.12616247  1.83705342  1.34831589\n",
      "  1.43717726  1.39274657  1.43717726 -0.02903534  1.34831589  1.3038852\n",
      " -0.02903534 -0.07346602  1.52603863  1.34831589  0.19311809 -0.02903534\n",
      "  1.48160794 -0.20675808  0.19311809  1.25945452  0.81514767  0.05982603\n",
      "  1.79262274  1.34831589  0.01539535  1.52603863  1.83705342  1.08173178\n",
      "  0.10425672  1.6149    ]\n",
      "\n",
      "__acual__\n",
      " [2 1 0 2 0 2 0 1 1 1 2 1 1 1 1 0 1 1 0 0 2 1 0 0 2 0 0 1 1 0 2 1 0 2 2 1 0\n",
      " 1]\n"
     ]
    }
   ],
   "source": [
    "#spliting\n",
    "from sklearn.model_selection import train_test_split\n",
    "\n",
    "x_train,x_test,y_train,y_test=train_test_split(x,y,test_size=0.25,random_state=0)\n",
    "\n",
    "from sklearn.linear_model import LinearRegression\n",
    "c=LinearRegression()\n",
    "c.fit(x_train,y_train)\n",
    "p=c.predict(x_test)\n",
    "print(\"\\n__prediction__\\n\",p)\n",
    "print(\"\\n__acual__\\n\",y_test)"
   ]
  },
  {
   "cell_type": "code",
   "execution_count": 11,
   "id": "a7b10391",
   "metadata": {},
   "outputs": [
    {
     "name": "stdout",
     "output_type": "stream",
     "text": [
      "\n",
      "Mean squared error\n",
      "0.08385006978493667\n",
      "\n",
      "r2 score\n",
      "0.8523420722323798\n"
     ]
    }
   ],
   "source": [
    "from sklearn.metrics import mean_squared_error,r2_score\n",
    "a=mean_squared_error(y_test,p)\n",
    "print(\"\\nMean squared error\")\n",
    "print(a)\n",
    "b=r2_score(y_test,p)\n",
    "print(\"\\nr2 score\")\n",
    "print(b)\n"
   ]
  },
  {
   "cell_type": "code",
   "execution_count": 12,
   "id": "bfc52ca5",
   "metadata": {},
   "outputs": [
    {
     "name": "stdout",
     "output_type": "stream",
     "text": [
      "\n",
      "Graphical representation of predicted and actual\n",
      "\n"
     ]
    },
    {
     "data": {
      "image/png": "[encoded data removed]",
      "text/plain": [
       "<Figure size 432x288 with 1 Axes>"
      ]
     },
     "metadata": {
      "needs_background": "light"
     },
     "output_type": "display_data"
    }
   ],
   "source": [
    "import matplotlib.pyplot as plt\n",
    "\n",
    "print(\"\\nGraphical representation of predicted and actual\\n\")\n",
    "plt.scatter(x_test,y_test)\n",
    "plt.plot(x_test,p,color='green')\n",
    "plt.title(\"predicted vs actual\")\n",
    "\n",
    "plt.show()"
   ]
  },
  {
   "cell_type": "code",
   "execution_count": null,
   "id": "38780e9d",
   "metadata": {},
   "outputs": [],
   "source": []
  }
 ],
 "metadata": {
  "kernelspec": {
   "display_name": "Python 3 (ipykernel)",
   "language": "python",
   "name": "python3"
  },
  "language_info": {
   "codemirror_mode": {
    "name": "ipython",
    "version": 3
   },
   "file_extension": ".py",
   "mimetype": "text/x-python",
   "name": "python",
   "nbconvert_exporter": "python",
   "pygments_lexer": "ipython3",
   "version": "3.7.11"
  }
 },
 "nbformat": 4,
 "nbformat_minor": 5
}
