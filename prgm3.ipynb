{
 "cells": [
  {
   "cell_type": "code",
   "execution_count": 1,
   "id": "7985cc52",
   "metadata": {},
   "outputs": [
    {
     "name": "stdout",
     "output_type": "stream",
     "text": [
      "Decomposed using svd : \n",
      "\n",
      "[[-0.45560124  0.33742468 -0.82375487]\n",
      " [-0.42819003 -0.89435856 -0.12952244]\n",
      " [-0.78043629  0.29371304  0.55195276]]\n",
      "\n",
      " [15.78948981  5.94653205  0.57512454]\n",
      "\n",
      " [[-0.52179673 -0.48853061 -0.69933255]\n",
      " [-0.84275236  0.42231866  0.33378947]\n",
      " [ 0.13227481  0.76353441 -0.63207482]]\n",
      "\n",
      " After reconstructed : \n",
      "\n",
      "\n",
      " [[2 3 5]\n",
      " [7 1 2]\n",
      " [5 6 8]]\n"
     ]
    }
   ],
   "source": [
    "#svd\n",
    "\n",
    "import numpy as np\n",
    "from scipy.linalg import svd\n",
    "\n",
    "arr=np.array([2,4,6,8,1,3,5,7,9]).reshape(3,3)\n",
    "a,b,c=svd(arr)\n",
    "\n",
    "print(\"Decomposed using svd : \\n\")\n",
    "print(a)\n",
    "print(\"\\n\",b)\n",
    "print(\"\\n\",c)\n",
    "\n",
    "print(\"\\n After reconstructed : \\n\")\n",
    "\n",
    "r=(a @ np.diag(b) @c)\n",
    "new_array=r.astype(\"i\")\n",
    "print(\"\\n\",new_array)"
   ]
  },
  {
   "cell_type": "code",
   "execution_count": null,
   "id": "8a6e65b7",
   "metadata": {},
   "outputs": [],
   "source": []
  }
 ],
 "metadata": {
  "kernelspec": {
   "display_name": "Python 3 (ipykernel)",
   "language": "python",
   "name": "python3"
  },
  "language_info": {
   "codemirror_mode": {
    "name": "ipython",
    "version": 3
   },
   "file_extension": ".py",
   "mimetype": "text/x-python",
   "name": "python",
   "nbconvert_exporter": "python",
   "pygments_lexer": "ipython3",
   "version": "3.7.11"
  }
 },
 "nbformat": 4,
 "nbformat_minor": 5
}
