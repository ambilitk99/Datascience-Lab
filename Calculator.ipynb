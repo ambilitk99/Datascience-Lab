{
 "cells": [
  {
   "cell_type": "code",
   "execution_count": null,
   "id": "36c9f7ad",
   "metadata": {},
   "outputs": [],
   "source": []
  },
  {
   "cell_type": "code",
   "execution_count": null,
   "id": "832a3efe",
   "metadata": {},
   "outputs": [],
   "source": []
  },
  {
   "cell_type": "code",
   "execution_count": 4,
   "id": "6bb39b02",
   "metadata": {},
   "outputs": [
    {
     "name": "stdout",
     "output_type": "stream",
     "text": [
      "Enter the first number : 4\n",
      "Enter the second number : 0\n",
      "1.Addition\n",
      "2.Substraction\n",
      "3.Multiplication\n",
      "4.Division\n",
      "5.Exit\n",
      "enter your choice : 1\n",
      "sum of 2 numbers =  4\n",
      "1.Addition\n",
      "2.Substraction\n",
      "3.Multiplication\n",
      "4.Division\n",
      "5.Exit\n",
      "enter your choice : 2\n",
      "Difference of 2 numbers =  4\n",
      "1.Addition\n",
      "2.Substraction\n",
      "3.Multiplication\n",
      "4.Division\n",
      "5.Exit\n",
      "enter your choice : 3\n",
      "multiple of 2 numbers =  0\n",
      "1.Addition\n",
      "2.Substraction\n",
      "3.Multiplication\n",
      "4.Division\n",
      "5.Exit\n",
      "enter your choice : 4\n",
      "division is not possible\n",
      "1.Addition\n",
      "2.Substraction\n",
      "3.Multiplication\n",
      "4.Division\n",
      "5.Exit\n",
      "enter your choice : 5\n",
      "Exiting..........\n"
     ]
    }
   ],
   "source": [
    "a= int(input(\"Enter the first number : \"))\n",
    "b= int(input(\"Enter the second number : \"))\n",
    "while(1):\n",
    "    print(\"1.Addition\")\n",
    "    print(\"2.Substraction\")\n",
    "    print(\"3.Multiplication\")\n",
    "    print(\"4.Division\")\n",
    "    print(\"5.Exit\")\n",
    "    ch= int(input(\"enter your choice : \"))\n",
    "\n",
    "    \n",
    "    if ch==1:\n",
    "        print(\"sum of 2 numbers = \",a+b)\n",
    "    elif ch==2:    \n",
    "        print(\"Difference of 2 numbers = \",a-b)\n",
    "    elif ch==3:    \n",
    "        print(\"multiple of 2 numbers = \",a*b)\n",
    "    elif ch==4:\n",
    "        if b==0:\n",
    "            print(\"division is not possible\")\n",
    "        else:\n",
    "            print(\"divide of 2 numbers = \",a/b)\n",
    "    else:\n",
    "        print(\"Exiting..........\")\n",
    "        break"
   ]
  },
  {
   "cell_type": "code",
   "execution_count": null,
   "id": "498836e2",
   "metadata": {},
   "outputs": [],
   "source": []
  }
 ],
 "metadata": {
  "kernelspec": {
   "display_name": "Python 3 (ipykernel)",
   "language": "python",
   "name": "python3"
  },
  "language_info": {
   "codemirror_mode": {
    "name": "ipython",
    "version": 3
   },
   "file_extension": ".py",
   "mimetype": "text/x-python",
   "name": "python",
   "nbconvert_exporter": "python",
   "pygments_lexer": "ipython3",
   "version": "3.7.11"
  }
 },
 "nbformat": 4,
 "nbformat_minor": 5
}
