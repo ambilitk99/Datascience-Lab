{
 "cells": [
  {
   "cell_type": "code",
   "execution_count": 1,
   "id": "b659759e",
   "metadata": {},
   "outputs": [
    {
     "name": "stdout",
     "output_type": "stream",
     "text": [
      "Matrix 1: \n",
      " [[2 4 6]\n",
      " [8 1 3]\n",
      " [5 7 9]] \n",
      "\n",
      "Matrix 2: \n",
      " [[1 3 5]\n",
      " [7 9 2]\n",
      " [4 6 8]] \n",
      "\n",
      "After Matrix multiplication: \n",
      " [[ 54  78  66]\n",
      " [ 27  51  66]\n",
      " [ 90 132 111]] \n",
      "\n",
      "Transpose of Matrix: \n",
      " [[ 54  27  90]\n",
      " [ 78  51 132]\n",
      " [ 66  66 111]]\n"
     ]
    }
   ],
   "source": [
    "#Matrix multiplication and transpose\n",
    "\n",
    "import numpy as np\n",
    "arr1=np.array([2,4,6,8,1,3,5,7,9]).reshape(3,3)\n",
    "print(\"Matrix 1: \\n\",arr1,\"\\n\")\n",
    "arr2=np.array([1,3,5,7,9,2,4,6,8]).reshape(3,3)\n",
    "print(\"Matrix 2: \\n\",arr2,\"\\n\")\n",
    "arr3=np.dot(arr1,arr2)\n",
    "print(\"After Matrix multiplication: \\n\",arr3,\"\\n\")\n",
    "\n",
    "trans=np.transpose(arr3)\n",
    "print(\"Transpose of Matrix: \\n\",trans)"
   ]
  },
  {
   "cell_type": "code",
   "execution_count": null,
   "id": "4c25d959",
   "metadata": {},
   "outputs": [],
   "source": []
  }
 ],
 "metadata": {
  "kernelspec": {
   "display_name": "Python 3 (ipykernel)",
   "language": "python",
   "name": "python3"
  },
  "language_info": {
   "codemirror_mode": {
    "name": "ipython",
    "version": 3
   },
   "file_extension": ".py",
   "mimetype": "text/x-python",
   "name": "python",
   "nbconvert_exporter": "python",
   "pygments_lexer": "ipython3",
   "version": "3.7.11"
  }
 },
 "nbformat": 4,
 "nbformat_minor": 5
}
