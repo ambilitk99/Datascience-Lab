{
 "cells": [
  {
   "cell_type": "code",
   "execution_count": 4,
   "id": "1e469ff6",
   "metadata": {},
   "outputs": [
    {
     "name": "stdout",
     "output_type": "stream",
     "text": [
      "    cars  passing\n",
      "0    BMW        3\n",
      "1  VOLVO        7\n",
      "2   FORD        2\n"
     ]
    }
   ],
   "source": [
    "import pandas as pd\n",
    "a={'cars':[\"BMW\",\"VOLVO\",\"FORD\"],'passing':[3,7,2]}\n",
    "b=pd.DataFrame(a)\n",
    "print(b)"
   ]
  },
  {
   "cell_type": "code",
   "execution_count": 5,
   "id": "ae4d91c3",
   "metadata": {},
   "outputs": [
    {
     "name": "stdout",
     "output_type": "stream",
     "text": [
      "    Duration         Date  Pulse  Maxpulse  Calories\n",
      "0         60  2020/12/01'    110     130.0       NaN\n",
      "1         60  2020/12/02'    117     145.0     479.0\n",
      "2         60  2020/12/03'    103     135.0     340.0\n",
      "3        450  2020/12/04'    109     175.0     201.0\n",
      "4         45  2020/12/05'    117     148.0      62.0\n",
      "5         60  2020/12/06'    102     127.5      77.0\n",
      "6         60  2020/12/07'    110     136.0     216.0\n",
      "7         45  2020/12/08'    104     134.0     253.0\n",
      "8         30     20201209    109     133.0       NaN\n",
      "9         60  2020/12/10'     98     124.0     269.0\n",
      "10        60  2020/12/11'    103     147.0     329.0\n",
      "11        60  2020/12/12'    100     120.0     250.0\n",
      "12        60  2020/12/12'    100     120.0     250.0\n"
     ]
    }
   ],
   "source": [
    "a=pd.read_csv('vt.csv')\n",
    "print(a)"
   ]
  },
  {
   "cell_type": "code",
   "execution_count": 6,
   "id": "ed4e3d01",
   "metadata": {},
   "outputs": [
    {
     "data": {
      "text/html": [
       "<div>\n",
       "<style scoped>\n",
       "    .dataframe tbody tr th:only-of-type {\n",
       "        vertical-align: middle;\n",
       "    }\n",
       "\n",
       "    .dataframe tbody tr th {\n",
       "        vertical-align: top;\n",
       "    }\n",
       "\n",
       "    .dataframe thead th {\n",
       "        text-align: right;\n",
       "    }\n",
       "</style>\n",
       "<table border=\"1\" class=\"dataframe\">\n",
       "  <thead>\n",
       "    <tr style=\"text-align: right;\">\n",
       "      <th></th>\n",
       "      <th>Duration</th>\n",
       "      <th>Date</th>\n",
       "      <th>Pulse</th>\n",
       "      <th>Maxpulse</th>\n",
       "      <th>Calories</th>\n",
       "    </tr>\n",
       "  </thead>\n",
       "  <tbody>\n",
       "    <tr>\n",
       "      <th>0</th>\n",
       "      <td>60</td>\n",
       "      <td>2020/12/01'</td>\n",
       "      <td>110</td>\n",
       "      <td>130.0</td>\n",
       "      <td>NaN</td>\n",
       "    </tr>\n",
       "    <tr>\n",
       "      <th>1</th>\n",
       "      <td>60</td>\n",
       "      <td>2020/12/02'</td>\n",
       "      <td>117</td>\n",
       "      <td>145.0</td>\n",
       "      <td>479.0</td>\n",
       "    </tr>\n",
       "    <tr>\n",
       "      <th>2</th>\n",
       "      <td>60</td>\n",
       "      <td>2020/12/03'</td>\n",
       "      <td>103</td>\n",
       "      <td>135.0</td>\n",
       "      <td>340.0</td>\n",
       "    </tr>\n",
       "    <tr>\n",
       "      <th>3</th>\n",
       "      <td>450</td>\n",
       "      <td>2020/12/04'</td>\n",
       "      <td>109</td>\n",
       "      <td>175.0</td>\n",
       "      <td>201.0</td>\n",
       "    </tr>\n",
       "    <tr>\n",
       "      <th>4</th>\n",
       "      <td>45</td>\n",
       "      <td>2020/12/05'</td>\n",
       "      <td>117</td>\n",
       "      <td>148.0</td>\n",
       "      <td>62.0</td>\n",
       "    </tr>\n",
       "  </tbody>\n",
       "</table>\n",
       "</div>"
      ],
      "text/plain": [
       "   Duration         Date  Pulse  Maxpulse  Calories\n",
       "0        60  2020/12/01'    110     130.0       NaN\n",
       "1        60  2020/12/02'    117     145.0     479.0\n",
       "2        60  2020/12/03'    103     135.0     340.0\n",
       "3       450  2020/12/04'    109     175.0     201.0\n",
       "4        45  2020/12/05'    117     148.0      62.0"
      ]
     },
     "execution_count": 6,
     "metadata": {},
     "output_type": "execute_result"
    }
   ],
   "source": [
    "a=pd.read_csv('vt.csv')\n",
    "a.head(5)"
   ]
  },
  {
   "cell_type": "code",
   "execution_count": 9,
   "id": "a0fb39f5",
   "metadata": {},
   "outputs": [
    {
     "name": "stdout",
     "output_type": "stream",
     "text": [
      "    Duration         Date  Pulse  Maxpulse  Calories\n",
      "8         30     20201209    109     133.0       NaN\n",
      "9         60  2020/12/10'     98     124.0     269.0\n",
      "10        60  2020/12/11'    103     147.0     329.0\n",
      "11        60  2020/12/12'    100     120.0     250.0\n",
      "12        60  2020/12/12'    100     120.0     250.0\n"
     ]
    }
   ],
   "source": [
    "a=pd.read_csv('vt.csv')\n",
    "print(a.tail(5))"
   ]
  },
  {
   "cell_type": "code",
   "execution_count": 13,
   "id": "63b5ff40",
   "metadata": {},
   "outputs": [
    {
     "name": "stdout",
     "output_type": "stream",
     "text": [
      "<class 'pandas.core.frame.DataFrame'>\n",
      "RangeIndex: 13 entries, 0 to 12\n",
      "Data columns (total 5 columns):\n",
      " #   Column    Non-Null Count  Dtype  \n",
      "---  ------    --------------  -----  \n",
      " 0   Duration  13 non-null     int64  \n",
      " 1   Date      13 non-null     object \n",
      " 2   Pulse     13 non-null     int64  \n",
      " 3   Maxpulse  13 non-null     float64\n",
      " 4   Calories  11 non-null     float64\n",
      "dtypes: float64(2), int64(2), object(1)\n",
      "memory usage: 648.0+ bytes\n"
     ]
    }
   ],
   "source": [
    "a=pd.read_csv('vt.csv')\n",
    "a.info(2)"
   ]
  },
  {
   "cell_type": "code",
   "execution_count": 14,
   "id": "3b31d426",
   "metadata": {},
   "outputs": [
    {
     "name": "stdout",
     "output_type": "stream",
     "text": [
      "    Duration         Date  Pulse  Maxpulse  Calories\n",
      "0         60  2020/12/01'    110     130.0     140.0\n",
      "1         60  2020/12/02'    117     145.0     479.0\n",
      "2         60  2020/12/03'    103     135.0     340.0\n",
      "3        450  2020/12/04'    109     175.0     201.0\n",
      "4         45  2020/12/05'    117     148.0      62.0\n",
      "5         60  2020/12/06'    102     127.5      77.0\n",
      "6         60  2020/12/07'    110     136.0     216.0\n",
      "7         45  2020/12/08'    104     134.0     253.0\n",
      "8         30     20201209    109     133.0     140.0\n",
      "9         60  2020/12/10'     98     124.0     269.0\n",
      "10        60  2020/12/11'    103     147.0     329.0\n",
      "11        60  2020/12/12'    100     120.0     250.0\n",
      "12        60  2020/12/12'    100     120.0     250.0\n"
     ]
    }
   ],
   "source": [
    "a=pd.read_csv('vt.csv')\n",
    "a['Calories'].fillna(140,inplace=True)\n",
    "print(a)"
   ]
  },
  {
   "cell_type": "code",
   "execution_count": 16,
   "id": "173c3d36",
   "metadata": {},
   "outputs": [
    {
     "name": "stdout",
     "output_type": "stream",
     "text": [
      "    Duration         Date  Pulse  Maxpulse  Calories\n",
      "0         60  2020/12/01'    110     130.0       NaN\n",
      "1         60  2020/12/02'    117     145.0     479.0\n",
      "2         45  2020/12/03'    103     135.0     340.0\n",
      "3        450  2020/12/04'    109     175.0     201.0\n",
      "4         45  2020/12/05'    117     148.0      62.0\n",
      "5         60  2020/12/06'    102     127.5      77.0\n",
      "6         60  2020/12/07'    110     136.0     216.0\n",
      "7         45  2020/12/08'    104     134.0     253.0\n",
      "8         30     20201209    109     133.0       NaN\n",
      "9         60  2020/12/10'     98     124.0     269.0\n",
      "10        60  2020/12/11'    103     147.0     329.0\n",
      "11        60  2020/12/12'    100     120.0     250.0\n",
      "12        60  2020/12/12'    100     120.0     250.0\n"
     ]
    }
   ],
   "source": [
    "a=pd.read_csv('vt.csv')\n",
    "a.loc[2,'Duration']=45\n",
    "print(a)"
   ]
  },
  {
   "cell_type": "code",
   "execution_count": 17,
   "id": "3203e8e3",
   "metadata": {},
   "outputs": [
    {
     "name": "stdout",
     "output_type": "stream",
     "text": [
      "    Duration         Date  Pulse  Maxpulse  Calories\n",
      "0         60  2020/12/01'    110     130.0     140.0\n",
      "1         60  2020/12/02'    117     145.0     479.0\n",
      "2         60  2020/12/03'    103     135.0     340.0\n",
      "3        450  2020/12/04'    109     175.0     201.0\n",
      "4         45  2020/12/05'    117     148.0      62.0\n",
      "5         60  2020/12/06'    102     127.5      77.0\n",
      "6         60  2020/12/07'    110     136.0     216.0\n",
      "7         45  2020/12/08'    104     134.0     253.0\n",
      "8         30     20201209    109     133.0     140.0\n",
      "9         60  2020/12/10'     98     124.0     269.0\n",
      "10        60  2020/12/11'    103     147.0     329.0\n",
      "11        60  2020/12/12'    100     120.0     250.0\n",
      "12        60  2020/12/12'    100     120.0     250.0\n"
     ]
    }
   ],
   "source": [
    "a=pd.read_csv('vt.csv')\n",
    "mode=a['Calories'].mode()\n",
    "a['Calories'].fillna(140,inplace=True)\n",
    "print(a)"
   ]
  },
  {
   "cell_type": "code",
   "execution_count": 21,
   "id": "864658c4",
   "metadata": {},
   "outputs": [
    {
     "name": "stdout",
     "output_type": "stream",
     "text": [
      "    Duration         Date  Pulse  Maxpulse  Calories       Dtae\n",
      "0         60  2020/12/01'    110     130.0       NaN 2020-12-01\n",
      "1         60  2020/12/02'    117     145.0     479.0 2020-12-02\n",
      "2         60  2020/12/03'    103     135.0     340.0 2020-12-03\n",
      "3        450  2020/12/04'    109     175.0     201.0 2020-12-04\n",
      "4         45  2020/12/05'    117     148.0      62.0 2020-12-05\n",
      "5         60  2020/12/06'    102     127.5      77.0 2020-12-06\n",
      "6         60  2020/12/07'    110     136.0     216.0 2020-12-07\n",
      "7         45  2020/12/08'    104     134.0     253.0 2020-12-08\n",
      "8         30     20201209    109     133.0       NaN 2020-12-09\n",
      "9         60  2020/12/10'     98     124.0     269.0 2020-12-10\n",
      "10        60  2020/12/11'    103     147.0     329.0 2020-12-11\n",
      "11        60  2020/12/12'    100     120.0     250.0 2020-12-12\n",
      "12        60  2020/12/12'    100     120.0     250.0 2020-12-12\n"
     ]
    }
   ],
   "source": [
    "a=pd.read_csv('vt.csv')\n",
    "a['Dtae']=pd.to_datetime(a['Date'])\n",
    "print(a)"
   ]
  },
  {
   "cell_type": "code",
   "execution_count": null,
   "id": "0bbe43f1",
   "metadata": {},
   "outputs": [],
   "source": []
  }
 ],
 "metadata": {
  "kernelspec": {
   "display_name": "Python 3 (ipykernel)",
   "language": "python",
   "name": "python3"
  },
  "language_info": {
   "codemirror_mode": {
    "name": "ipython",
    "version": 3
   },
   "file_extension": ".py",
   "mimetype": "text/x-python",
   "name": "python",
   "nbconvert_exporter": "python",
   "pygments_lexer": "ipython3",
   "version": "3.7.11"
  }
 },
 "nbformat": 4,
 "nbformat_minor": 5
}
